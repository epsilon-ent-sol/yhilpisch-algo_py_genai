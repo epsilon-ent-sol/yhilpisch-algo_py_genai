{
 "cells": [
  {
   "cell_type": "markdown",
   "id": "f59547b6-71d8-4ce0-b0b3-9b33997b4023",
   "metadata": {
    "slideshow": {
     "slide_type": "slide"
    }
   },
   "source": [
    "<img src=\"http://hilpisch.com/tpq_logo.png\" alt=\"The Python Quants\" width=\"35%\" align=\"right\" border=\"0\"><br>"
   ]
  },
  {
   "cell_type": "markdown",
   "id": "12eab4f3-6033-4e05-95f5-f0bb1f62eb5e",
   "metadata": {},
   "source": [
    "# Algorithmic Trading"
   ]
  },
  {
   "cell_type": "markdown",
   "id": "135e5b2b-9934-4aba-a0e9-e2c153a46886",
   "metadata": {
    "tags": []
   },
   "source": [
    "**With Python & GenAI**\n",
    "\n",
    "&copy; Dr. Yves J. Hilpisch | The Python Quants GmbH\n",
    "\n",
    "https://cpf.tpq.io | [team@tpq.io](mailto:team@tpq.io) | [https://linktr.ee/dyjh](https://linktr.ee/dyjh)"
   ]
  },
  {
   "cell_type": "markdown",
   "id": "edacb0bd-a0e7-413d-bd5c-2e044c44c6fa",
   "metadata": {
    "slideshow": {
     "slide_type": "slide"
    }
   },
   "source": [
    "<img src=\"http://hilpisch.com/tpq_logo.png\" alt=\"The Python Quants\" width=\"35%\" align=\"right\" border=\"0\"><br>"
   ]
  }
 ],
 "metadata": {
  "kernelspec": {
   "display_name": "Python 3 (ipykernel)",
   "language": "python",
   "name": "python3"
  },
  "language_info": {
   "codemirror_mode": {
    "name": "ipython",
    "version": 3
   },
   "file_extension": ".py",
   "mimetype": "text/x-python",
   "name": "python",
   "nbconvert_exporter": "python",
   "pygments_lexer": "ipython3",
   "version": "3.12.11"
  }
 },
 "nbformat": 4,
 "nbformat_minor": 5
}
